{
 "cells": [
  {
   "cell_type": "markdown",
   "id": "0d5035b5",
   "metadata": {},
   "source": [
    "# Tupla\n",
    "\n",
    "## Aula 8.2"
   ]
  },
  {
   "cell_type": "markdown",
   "id": "0bdece85",
   "metadata": {},
   "source": [
    "### Q1. \n",
    "\n",
    "Escreva uma função ```calcula_area_perimetro``` que recebe **apenas um parâmetro** ```dimensoes``` e calcula a área e o perímetro a partir das dimensões dadas. \n",
    "- ```dimensoes``` é uma tupla (largura, comprimento) com as dimensões de um terreno retangular\n",
    "- Sua função deve calcular e retornar as seguintes operações\n",
    "   - $area = largura \\times comprimento$\n",
    "   - $perimetro = 2\\times(largura + comprimento)$\n"
   ]
  },
  {
   "cell_type": "code",
   "execution_count": 3,
   "id": "0a258eba",
   "metadata": {},
   "outputs": [],
   "source": [
    "# Implemente aqui a função calcula_area_perimetro\n",
    "\n",
    "def calcula_area_perimetro(dimensoes):\n",
    "    area = dimensoes[0]*dimensoes[1]\n",
    "    perimetro = 2*(dimensoes[0]+dimensoes[1])\n",
    "    return(f'Área: {area} \\nPerimetro: {perimetro}')\n"
   ]
  },
  {
   "cell_type": "code",
   "execution_count": 4,
   "id": "e1866c04",
   "metadata": {},
   "outputs": [
    {
     "name": "stdout",
     "output_type": "stream",
     "text": [
      "Área: 35 \n",
      "Perimetro: 24 <class 'str'>\n"
     ]
    }
   ],
   "source": [
    "# Complete o exemplo de uso abaixo\n",
    "largura = 5\n",
    "comprimento = 7\n",
    "\n",
    "retorno = calcula_area_perimetro((largura,comprimento))\n",
    "print(retorno, type(retorno))"
   ]
  },
  {
   "cell_type": "markdown",
   "id": "cbdcb986",
   "metadata": {},
   "source": [
    "### Q2.\n",
    "\n",
    "Dada uma string, imprima todas as vogais que aparecem na string, bem como todos os índices onde elas ocorrem. Para isso, use a função ```enumerate```.\n"
   ]
  },
  {
   "cell_type": "code",
   "execution_count": 14,
   "id": "1f6b1f2d",
   "metadata": {},
   "outputs": [
    {
     "name": "stdout",
     "output_type": "stream",
     "text": [
      "a:3\n",
      "o:5\n",
      "o:8\n",
      "e:9\n",
      "u:10\n",
      "a:12\n",
      "o:15\n",
      "u:16\n",
      "a:18\n",
      "a:21\n",
      "i:25\n",
      "e:27\n"
     ]
    }
   ],
   "source": [
    "frase = \"O rato roeu a roupa da Alice\"\n",
    "\n",
    "# Implemente aqui sua solução\n",
    "\n",
    "vogais = ['a','e','i','o','u']\n",
    "\n",
    "for i, letra in enumerate(frase):\n",
    "       if letra in vogais:\n",
    "           print(f'{letra}:{i}')\n",
    "\n"
   ]
  },
  {
   "cell_type": "markdown",
   "id": "8d46663f",
   "metadata": {},
   "source": [
    "### Q3.\n",
    "\n",
    "Escreva uma função em Python chamada ```ordenar_tuplas``` que recebe uma lista de tuplas, cada uma contendo o nome de um aluno e sua respectiva média, e retorna uma nova lista ordenada em ordem decrescente de médias."
   ]
  },
  {
   "cell_type": "code",
   "execution_count": 3,
   "id": "469f2e6e",
   "metadata": {},
   "outputs": [
    {
     "name": "stdout",
     "output_type": "stream",
     "text": [
      "Carla: 9.1\n",
      "Ana: 8.5\n",
      "Bruno: 7.2\n",
      "Diego: 6.8\n"
     ]
    }
   ],
   "source": [
    "# Implemente aqui a função ordenar_tuplas\n",
    "def ordenar_tuplas(lista_alunos):\n",
    "        return sorted(lista_alunos, key=lambda x: x[1], reverse=True)    \n",
    "\n",
    "alunos = [\n",
    "    (\"Ana\", 8.5),\n",
    "    (\"Bruno\", 7.2),\n",
    "    (\"Carla\", 9.1),\n",
    "    (\"Diego\", 6.8)\n",
    "]\n",
    "ordenados = ordenar_tuplas(alunos)\n",
    "\n",
    "for nome, media in ordenados:\n",
    "    print(f\"{nome}: {media}\")"
   ]
  },
  {
   "cell_type": "code",
   "execution_count": 4,
   "id": "1972c62b",
   "metadata": {},
   "outputs": [
    {
     "name": "stdout",
     "output_type": "stream",
     "text": [
      "[('Charlie', 9.0), ('David', 8.8), ('Alice', 8.5), ('Bob', 7.2)]\n"
     ]
    }
   ],
   "source": [
    "# Exemplo de uso:\n",
    "alunos_notas = [('Alice', 8.5), ('Bob', 7.2), ('Charlie', 9.0), ('David', 8.8)]\n",
    "resultado = ordenar_tuplas(alunos_notas)\n",
    "print(resultado)\n",
    "# Saída esperada: [('Charlie', 9.0), ('David', 8.8), ('Alice', 8.5), ('Bob', 7.2)]"
   ]
  },
  {
   "cell_type": "markdown",
   "id": "e0268fae",
   "metadata": {},
   "source": [
    "### Q4.\n",
    "\n",
    "Escreva uma função em Python chamada ```comprimir_tuplas``` que recebe uma lista de tuplas, cada uma contendo uma palavra e um número, e retorna uma nova lista de tuplas onde palavras idênticas são agrupadas e seus números são somados.\n",
    "\n"
   ]
  },
  {
   "cell_type": "code",
   "execution_count": 6,
   "id": "30a221f3",
   "metadata": {},
   "outputs": [],
   "source": [
    "# Implemente aqui a função comprimir_tuplas\n",
    "from collections import defaultdict\n",
    "\n",
    "def comprimir_tuplas(lista):\n",
    "    acumulador = defaultdict(int)\n",
    "    \n",
    "    for palavra, numero in lista:\n",
    "        acumulador[palavra] += numero\n",
    "    \n",
    "    # Converte de volta para lista de tuplas\n",
    "    return list(acumulador.items())\n"
   ]
  },
  {
   "cell_type": "code",
   "execution_count": 7,
   "id": "80972bac",
   "metadata": {},
   "outputs": [
    {
     "name": "stdout",
     "output_type": "stream",
     "text": [
      "[('maçã', 8), ('banana', 5), ('laranja', 1)]\n"
     ]
    }
   ],
   "source": [
    "# Exemplo de uso:\n",
    "tuplas_originais = [('maçã', 3), ('banana', 2), ('maçã', 5), ('laranja', 1), ('banana', 3)]\n",
    "resultado = comprimir_tuplas(tuplas_originais)\n",
    "print(resultado)\n",
    "# Saída esperada: [('maçã', 8), ('banana', 5), ('laranja', 1)]"
   ]
  },
  {
   "cell_type": "markdown",
   "id": "649a5082",
   "metadata": {},
   "source": [
    "### Q5. \n",
    "\n",
    "- Escreva um script que peça o nome e a idade de todos na fila de uma balada. Crie uma lista de tuplas com os pares ```(nome, idade)``` de cada um. \n",
    "- Em seguida crie e imprima duas tuplas apenas com os nomes, uma com os menores de idade que não poderão entrar, e uma com os maiores de idade (```idade >= 18```). \n",
    "\n"
   ]
  },
  {
   "cell_type": "code",
   "execution_count": 8,
   "id": "47cb0573",
   "metadata": {},
   "outputs": [
    {
     "name": "stdout",
     "output_type": "stream",
     "text": [
      "Digite os nomes e idades das pessoas na fila. Para parar, digite 'sair' como nome.\n"
     ]
    },
    {
     "name": "stdin",
     "output_type": "stream",
     "text": [
      "Nome:  bazukador\n",
      "Idade:  2500\n",
      "Nome:  sair\n"
     ]
    },
    {
     "name": "stdout",
     "output_type": "stream",
     "text": [
      "\n",
      "Menores de idade (não entram): ()\n",
      "Maiores de idade (entram): ('bazukador',)\n"
     ]
    }
   ],
   "source": [
    "## Implemente aqui sua solução\n",
    "def balada():\n",
    "    fila = []\n",
    "\n",
    "    print(\"Digite os nomes e idades das pessoas na fila. Para parar, digite 'sair' como nome.\")\n",
    "\n",
    "    while True:\n",
    "        nome = input(\"Nome: \")\n",
    "        if nome.lower() == 'sair':\n",
    "            break\n",
    "        try:\n",
    "            idade = int(input(\"Idade: \"))\n",
    "        except ValueError:\n",
    "            print(\"Idade inválida. Tente novamente.\")\n",
    "            continue\n",
    "        \n",
    "        fila.append((nome, idade))\n",
    "\n",
    "    menores = tuple([nome for nome, idade in fila if idade < 18])\n",
    "    maiores = tuple([nome for nome, idade in fila if idade >= 18])\n",
    "\n",
    "    print(\"\\nMenores de idade (não entram):\", menores)\n",
    "    print(\"Maiores de idade (entram):\", maiores)\n",
    "\n",
    "# Executa o script\n",
    "balada()"
   ]
  },
  {
   "cell_type": "code",
   "execution_count": null,
   "id": "ff1f05ed-bec9-43ab-92d2-461ff24a1376",
   "metadata": {},
   "outputs": [],
   "source": []
  }
 ],
 "metadata": {
  "kernelspec": {
   "display_name": "Python 3 (ipykernel)",
   "language": "python",
   "name": "python3"
  },
  "language_info": {
   "codemirror_mode": {
    "name": "ipython",
    "version": 3
   },
   "file_extension": ".py",
   "mimetype": "text/x-python",
   "name": "python",
   "nbconvert_exporter": "python",
   "pygments_lexer": "ipython3",
   "version": "3.11.2"
  }
 },
 "nbformat": 4,
 "nbformat_minor": 5
}
