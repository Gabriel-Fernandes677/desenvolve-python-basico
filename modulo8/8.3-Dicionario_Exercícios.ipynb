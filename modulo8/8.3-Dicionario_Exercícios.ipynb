{
 "cells": [
  {
   "cell_type": "markdown",
   "id": "0d5035b5",
   "metadata": {},
   "source": [
    "# Dicionários\n",
    "\n",
    "## Aula 8.3"
   ]
  },
  {
   "cell_type": "markdown",
   "id": "0bdece85",
   "metadata": {},
   "source": [
    "### Q1. \n",
    "\n",
    "Escreva uma função em Python chamada ```contagem_caracteres``` que recebe uma string como parâmetro e retorna um dicionário onde as chaves são os caracteres presentes na string e os valores são a contagem de cada caractere.\n"
   ]
  },
  {
   "cell_type": "code",
   "execution_count": 18,
   "id": "09a9845d",
   "metadata": {},
   "outputs": [],
   "source": [
    "# Implemente aqui a função contagem_caracteres\n",
    "def contagem_caracteres(string):\n",
    "    dicionario = {}\n",
    "    chars = list(string)\n",
    "    for i in chars:\n",
    "        dicionario[i] = chars.index(i)\n",
    "    \n",
    "    return dicionario\n",
    "\n"
   ]
  },
  {
   "cell_type": "code",
   "execution_count": 17,
   "id": "0a258eba",
   "metadata": {},
   "outputs": [
    {
     "name": "stdout",
     "output_type": "stream",
     "text": [
      "{'p': 0, 'y': 1, 't': 2, 'h': 3, 'o': 4, 'n': 5, ' ': 6, 'r': 8, 'g': 10, 'a': 12, 'm': 13, 'i': 15}\n"
     ]
    }
   ],
   "source": [
    "# Exemplo de uso:\n",
    "frase = \"python programming\"\n",
    "resultado = contagem_caracteres(frase)\n",
    "print(resultado)"
   ]
  },
  {
   "cell_type": "markdown",
   "id": "649a5082",
   "metadata": {},
   "source": [
    "### Q2. \n",
    "\n",
    "Baixe o arquivo contendo o roteiro do filme brasileiro \"Estômago\" e salve em seu computador com o nome \"estomago.txt\".\n",
    "\n",
    "https://aplauso.imprensaoficial.com.br/edicoes/12.0.813.502/12.0.813.502.txt\n",
    "\n",
    "- Escreva um script python que abre o arquivo de texto e cria um dicionário contando a quantidade de vezes que cada palavra aparece no texto.\n",
    "- Em seguida ordene o dicionário de forma decrescente pelos valores. Dessa maneira ele irá apresentar as palavras mais frequentes no início.\n",
    "- Apresente na tela o dicionário ordenado\n"
   ]
  },
  {
   "cell_type": "code",
   "execution_count": null,
   "id": "47cb0573",
   "metadata": {},
   "outputs": [],
   "source": [
    "# Implemente aqui sua solução\n",
    "from collections import Counter\n",
    "from time import sleep\n",
    "\n",
    "with open('roteiro.txt','r') as rot:\n",
    "    texto = rot.read()\n",
    "    palavras = texto.split()\n",
    "    contador = Counter(palavras)\n",
    "\n",
    "    for palavra, cont in contador.items():\n",
    "        print(f\"Palavra:{palavra}  Ocorrencia:{cont}\")\n",
    "        sleep(3)\n",
    "\n"
   ]
  },
  {
   "cell_type": "markdown",
   "id": "bb62d219",
   "metadata": {},
   "source": [
    "### Q3. \n",
    "\n",
    "Crie uma função chamada ```mesclar_dicionarios``` que recebe dois dicionários como parâmetros e retorna um novo dicionário contendo a fusão dos dois. Se houver chaves comuns, o maior valor deve prevalecer."
   ]
  },
  {
   "cell_type": "code",
   "execution_count": null,
   "id": "f4363612",
   "metadata": {},
   "outputs": [],
   "source": [
    "# Implemente aqui a função mesclar_dicionarios\n",
    "def mesclar_dicionarios(di1,di2):\n",
    "    return di1 | di2\n",
    "\n",
    "    \n",
    "    "
   ]
  },
  {
   "cell_type": "code",
   "execution_count": null,
   "id": "add41556",
   "metadata": {},
   "outputs": [],
   "source": [
    "# Exemplo de uso:\n",
    "dicionario1 = {'a': 1, 'b': 2, 'c': 3}\n",
    "dicionario2 = {'b': 4, 'd': 5}\n",
    "resultado = mesclar_dicionarios(dicionario1, dicionario2)\n",
    "print(resultado)\n",
    "# Saída esperada: {'a': 1, 'b': 4, 'c': 3, 'd': 5}"
   ]
  },
  {
   "cell_type": "code",
   "execution_count": null,
   "id": "01d46661-1d71-4af9-b264-b29bf5b55d13",
   "metadata": {},
   "outputs": [],
   "source": [
    "### Q4.\n",
    "\n",
    "Desenvolva uma função em Python chamada ```filtrar_dicionario``` que recebe um dicionário e uma lista de chaves como parâmetros e retorna um novo dicionário contendo apenas as chaves que estão presentes na lista."
   ]
  },
  {
   "cell_type": "code",
   "execution_count": 3,
   "id": "0b7ee921",
   "metadata": {},
   "outputs": [],
   "source": [
    "# Implemente aqui a função filtrar_dicionario\n",
    "def filtrar_dicionario(dicionario,chaves):\n",
    "    nv_dici = {}\n",
    "    for i in chaves:\n",
    "        if i in dicionario:\n",
    "            nv_dici[i] = dicionario[i]\n",
    "    return nv_dici\n",
    "    \n",
    "\n",
    "\n",
    "    "
   ]
  },
  {
   "cell_type": "code",
   "execution_count": 4,
   "id": "ebc131f6",
   "metadata": {},
   "outputs": [
    {
     "name": "stdout",
     "output_type": "stream",
     "text": [
      "{'a': 1, 'c': 3, 'e': 5}\n"
     ]
    }
   ],
   "source": [
    "# Exemplo de uso:\n",
    "dados = {'a': 1, 'b': 2, 'c': 3, 'd': 4, 'e': 5}\n",
    "chaves_filtradas = ['a', 'c', 'e']\n",
    "resultado = filtrar_dicionario(dados, chaves_filtradas)\n",
    "print(resultado)\n",
    "# Saída esperada: {'a': 1, 'c': 3, 'e': 5}"
   ]
  },
  {
   "cell_type": "markdown",
   "id": "3203c51e",
   "metadata": {},
   "source": [
    "### Q5.\n",
    "\n",
    "Você está responsável por analisar os resultados de uma votação. Cada voto é representado por um dicionário com o nome do candidato e a quantidade de votos que recebeu em uma determinada sessão eleitoral. Escreva uma função chamada ```resultado_votacao``` que recebe uma lista de dicionários de votos e retorna um dicionário onde as chaves são os nomes dos candidatos, e os valores são tuplas ```(total, percentual)``` com o total de votos recebidos por cada candidato e o percentual em relação à soma total de votos em todos os candidatos. "
   ]
  },
  {
   "cell_type": "code",
   "execution_count": 35,
   "id": "2c856eee",
   "metadata": {},
   "outputs": [],
   "source": [
    "# Implemente aqui a função resultado_votacao\n",
    "\n",
    "def resultado_votacao(lista):\n",
    "    nv_dici = {}\n",
    "    for i in lista[0]:\n",
    "        nv_dici[i] = 0\n",
    "    for i in lista:\n",
    "        for j in i:\n",
    "            nv_dici += i[j]\n",
    "    print(type(nv_dici))"
   ]
  },
  {
   "cell_type": "code",
   "execution_count": 3,
   "id": "ff2044de",
   "metadata": {},
   "outputs": [
    {
     "ename": "NameError",
     "evalue": "name 'resultado_votacao' is not defined",
     "output_type": "error",
     "traceback": [
      "\u001b[0;31m---------------------------------------------------------------------------\u001b[0m",
      "\u001b[0;31mNameError\u001b[0m                                 Traceback (most recent call last)",
      "Cell \u001b[0;32mIn[3], line 7\u001b[0m\n\u001b[1;32m      1\u001b[0m \u001b[38;5;66;03m# Exemplo de uso:\u001b[39;00m\n\u001b[1;32m      2\u001b[0m votos \u001b[38;5;241m=\u001b[39m [\n\u001b[1;32m      3\u001b[0m     {\u001b[38;5;124m'\u001b[39m\u001b[38;5;124mcandidato_A\u001b[39m\u001b[38;5;124m'\u001b[39m: \u001b[38;5;241m120\u001b[39m, \u001b[38;5;124m'\u001b[39m\u001b[38;5;124mcandidato_B\u001b[39m\u001b[38;5;124m'\u001b[39m: \u001b[38;5;241m85\u001b[39m, \u001b[38;5;124m'\u001b[39m\u001b[38;5;124mcandidato_C\u001b[39m\u001b[38;5;124m'\u001b[39m: \u001b[38;5;241m90\u001b[39m},\n\u001b[1;32m      4\u001b[0m     {\u001b[38;5;124m'\u001b[39m\u001b[38;5;124mcandidato_A\u001b[39m\u001b[38;5;124m'\u001b[39m: \u001b[38;5;241m110\u001b[39m, \u001b[38;5;124m'\u001b[39m\u001b[38;5;124mcandidato_B\u001b[39m\u001b[38;5;124m'\u001b[39m: \u001b[38;5;241m95\u001b[39m, \u001b[38;5;124m'\u001b[39m\u001b[38;5;124mcandidato_C\u001b[39m\u001b[38;5;124m'\u001b[39m: \u001b[38;5;241m80\u001b[39m},\n\u001b[1;32m      5\u001b[0m     {\u001b[38;5;124m'\u001b[39m\u001b[38;5;124mcandidato_A\u001b[39m\u001b[38;5;124m'\u001b[39m: \u001b[38;5;241m130\u001b[39m, \u001b[38;5;124m'\u001b[39m\u001b[38;5;124mcandidato_B\u001b[39m\u001b[38;5;124m'\u001b[39m: \u001b[38;5;241m78\u001b[39m, \u001b[38;5;124m'\u001b[39m\u001b[38;5;124mcandidato_C\u001b[39m\u001b[38;5;124m'\u001b[39m: \u001b[38;5;241m105\u001b[39m},\n\u001b[1;32m      6\u001b[0m ]\n\u001b[0;32m----> 7\u001b[0m resultado \u001b[38;5;241m=\u001b[39m \u001b[43mresultado_votacao\u001b[49m(votos)\n\u001b[1;32m      8\u001b[0m \u001b[38;5;28mprint\u001b[39m(resultado)  \u001b[38;5;66;03m# Saída esperada: {'candidato_A': (360, 40.31), 'candidato_B': (258, 28.89), \u001b[39;00m\n\u001b[1;32m      9\u001b[0m                                 \u001b[38;5;66;03m###  'candidato_C': (275, 30.79)}\u001b[39;00m\n",
      "\u001b[0;31mNameError\u001b[0m: name 'resultado_votacao' is not defined"
     ]
    }
   ],
   "source": [
    "# Exemplo de uso:\n",
    "votos = [\n",
    "    {'candidato_A': 120, 'candidato_B': 85, 'candidato_C': 90},\n",
    "    {'candidato_A': 110, 'candidato_B': 95, 'candidato_C': 80},\n",
    "    {'candidato_A': 130, 'candidato_B': 78, 'candidato_C': 105},\n",
    "]\n",
    "resultado = resultado_votacao(votos)\n",
    "print(resultado)  # Saída esperada: {'candidato_A': (360, 40.31), 'candidato_B': (258, 28.89), \n",
    "                                ###  'candidato_C': (275, 30.79)}"
   ]
  },
  {
   "cell_type": "code",
   "execution_count": null,
   "id": "6f14c7a4-0ce7-4e2e-adee-f82d9778ffa8",
   "metadata": {},
   "outputs": [],
   "source": []
  },
  {
   "cell_type": "code",
   "execution_count": null,
   "id": "66e7d6b3-9c99-4cbd-9082-5b71e177dca1",
   "metadata": {},
   "outputs": [],
   "source": []
  },
  {
   "cell_type": "code",
   "execution_count": null,
   "id": "6e12772a-80ad-4bd3-a158-e0d189dde8fe",
   "metadata": {},
   "outputs": [],
   "source": []
  },
  {
   "cell_type": "code",
   "execution_count": null,
   "id": "71cb0889-9a7b-44f0-b670-44a55e0054ad",
   "metadata": {},
   "outputs": [],
   "source": []
  },
  {
   "cell_type": "code",
   "execution_count": null,
   "id": "7512652e-414d-46e2-8ef6-5248fe0e9d8f",
   "metadata": {},
   "outputs": [],
   "source": []
  },
  {
   "cell_type": "code",
   "execution_count": null,
   "id": "6594c665-22f8-4d01-b467-6ffc1767cfb6",
   "metadata": {},
   "outputs": [],
   "source": []
  },
  {
   "cell_type": "code",
   "execution_count": null,
   "id": "b2b404e7-3c9e-476e-a8c3-a80a52773343",
   "metadata": {},
   "outputs": [],
   "source": []
  },
  {
   "cell_type": "code",
   "execution_count": null,
   "id": "52d7083a-73ce-4f8c-bd9f-9554f202a428",
   "metadata": {},
   "outputs": [],
   "source": []
  }
 ],
 "metadata": {
  "kernelspec": {
   "display_name": "Python 3 (ipykernel)",
   "language": "python",
   "name": "python3"
  },
  "language_info": {
   "codemirror_mode": {
    "name": "ipython",
    "version": 3
   },
   "file_extension": ".py",
   "mimetype": "text/x-python",
   "name": "python",
   "nbconvert_exporter": "python",
   "pygments_lexer": "ipython3",
   "version": "3.11.2"
  }
 },
 "nbformat": 4,
 "nbformat_minor": 5
}
